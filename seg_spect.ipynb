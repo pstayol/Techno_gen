{
 "cells": [
  {
   "attachments": {},
   "cell_type": "markdown",
   "metadata": {},
   "source": [
    "<font size=6>**Segmentation**</font>"
   ]
  },
  {
   "cell_type": "code",
   "execution_count": null,
   "metadata": {},
   "outputs": [],
   "source": [
    "from pydub import AudioSegment\n",
    "import warnings\n",
    "warnings.simplefilter(action='ignore')\n",
    "import os\n",
    "import math\n",
    "import librosa\n",
    "os.mkdir('SEGMENTS_DIR')\n",
    "#5 SEC SEGMENTS WITH NO OVERLAP\n",
    "def audio_seg(paths,tagetpath):\n",
    "  files = os.listdir(paths)\n",
    "  k=0\n",
    "  for i in range(len(files)):\n",
    "    k=k+1\n",
    "    duration=librosa.get_duration(path=paths + files[i])\n",
    "    song = AudioSegment.from_file(paths+files[i],format=\"mp4\")\n",
    "    for j in range(1,math.floor(duration/5)+1):\n",
    "        fivesec = 5000\n",
    "        fivesec_seg = song[(j-1)*fivesec  : j*fivesec ]\n",
    "        fivesec_seg.export(tagetpath + str(k) + 'audio' + str(j) + '.mp3', format=\"mp3\")    \n",
    "\n",
    "audio_seg('RAW_AUDIO_PATH','SEGMENTS_DIR')\n"
   ]
  },
  {
   "attachments": {},
   "cell_type": "markdown",
   "metadata": {},
   "source": [
    "<font size=6>**Segment Spectogram**</font>"
   ]
  },
  {
   "cell_type": "code",
   "execution_count": null,
   "metadata": {},
   "outputs": [],
   "source": [
    "import matplotlib.pyplot as plt\n",
    "import numpy as np\n",
    "from pydub import AudioSegment\n",
    "import warnings\n",
    "warnings.simplefilter(action='ignore')\n",
    "import os \n",
    "import math\n",
    "import librosa\n",
    "import librosa.display\n",
    "def get_spect(path, targetpath):\n",
    "    y, sr = librosa.load(path)\n",
    "    mel = librosa.feature.melspectrogram(y=y, sr=sr)\n",
    "    M_db = librosa.power_to_db(mel, ref=np.max)\n",
    "    \n",
    "    plt.figure(figsize=(10, 4))\n",
    "    librosa.display.specshow(M_db)\n",
    "    plt.axis('off')\n",
    "    plt.savefig(targetpath, dpi=300, bbox_inches='tight', pad_inches=0)\n",
    "    plt.clf()\n",
    "    plt.close('all')\n",
    "\n",
    "seg_files = os.listdir('SEGMENTS_DIR')\n",
    "for i in range(40421 , len(seg_files)):\n",
    "    get_spect('SEGMENTS_DIR'+seg_files[i],'SPECTOGRAM_DIR/SEGMENT'+str(i)+'.png')"
   ]
  }
 ],
 "metadata": {
  "language_info": {
   "name": "python"
  },
  "orig_nbformat": 4
 },
 "nbformat": 4,
 "nbformat_minor": 2
}
