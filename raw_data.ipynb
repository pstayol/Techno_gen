{
 "cells": [
  {
   "attachments": {},
   "cell_type": "markdown",
   "metadata": {},
   "source": [
    "<font size=6>**Gather Techno Songs**</font>"
   ]
  },
  {
   "cell_type": "code",
   "execution_count": null,
   "metadata": {},
   "outputs": [],
   "source": [
    "import pytube\n",
    "from pytube import YouTube\n",
    "from pytube import Playlist\n",
    "import numpy as np\n",
    "path=\"/content/drive/MyDrive\"\n",
    "def urls(playlist_urls):\n",
    "  return list(playlist_urls)\n",
    "\n",
    "def download_playlist(urls,path):\n",
    "  i=0\n",
    "  for j in urls:\n",
    "    i=i+1\n",
    "    yt = pytube.YouTube(j, use_oauth=True, allow_oauth_cache=True)\n",
    "    yt.streams.filter(only_audio=True).first().download(path,filename=str(i)+\"audio.mp3\")\n",
    "\n",
    "p1 = Playlist(\"https://www.youtube.com/playlist?list=PLY9AQ6MtYEKJTQiVXuSqXDX-JuU9c8NaD\")\n",
    "p2 = Playlist(\"https://www.youtube.com/watch?v=bfFURz_zX1Q&list=PLI8lxsZqZNEkP-0n6fb2BCAn7u2FQIMXh\")\n",
    "p3 = Playlist(\"https://www.youtube.com/watch?v=TSUHK9c_Vf4&list=PLWcttt0SQjI_r_lyii1pJvDQ-2R94DBV2\")\n",
    "p4 = Playlist(\"https://www.youtube.com/watch?v=eMYSvGqdBGA&list=PLlyH564owJC1S_ofMq3ISViJBi19pJIu6\")\n",
    "p5 = Playlist(\"https://www.youtube.com/watch?v=UyJUau8azMs&list=PL92E7U9cSn-AAiTQvJAkn0zEKSq0R1Y14\")\n",
    "p6 = Playlist(\"https://www.youtube.com/watch?v=FM31XCvwnAY&list=PLJpU8I18pJwE7ZKauBl44927SlhfRKTdw\")\n",
    "playlist = [p1,p2,p3,p4]\n",
    "urlp1 = urls(p1)\n",
    "urlp2 = urls(p2)\n",
    "urlp3 = urls(p3)\n",
    "urlp4 = urls(p4)\n",
    "urlp5 = urls(p5)\n",
    "urlp6 = urls(p6)\n",
    "# removing some urls we cant access by hand\n",
    "urlp4.remove(urlp4[71])\n",
    "urlp4.remove(urlp4[236])\n",
    "urlp4.remove(urlp4[529])\n",
    "urlp3.remove(urlp3[71])\n",
    "urlp5.remove(urlp5[132])\n",
    "urlp5.remove(urlp5[166])\n",
    "urlp5.remove(urlp5[169])\n",
    "urlp5.remove(urlp5[246])\n",
    "url = urlp1+urlp2+urlp3+urlp4+urlp5+urlp6\n",
    "\n",
    "download_playlist(url,path)"
   ]
  }
 ],
 "metadata": {
  "language_info": {
   "name": "python"
  },
  "orig_nbformat": 4
 },
 "nbformat": 4,
 "nbformat_minor": 2
}
